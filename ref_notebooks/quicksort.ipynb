{
 "cells": [
  {
   "cell_type": "code",
   "execution_count": 7,
   "metadata": {},
   "outputs": [
    {
     "name": "stdout",
     "output_type": "stream",
     "text": [
      "\n",
      "Sorted List \n",
      " [2, 3, 3, 4, 8, 10, 12, 12, 12, 34, 56, 67, 76, 89, 90, 99, 346, 902, 2123, 2341]\n"
     ]
    }
   ],
   "source": [
    "# HMWK Group 1\n",
    "# Members : Pooja Bist, Colton Murray, Raman Hliabovich\n",
    "\n",
    "\n",
    "\n",
    "L = [12,346,4,56,12,90,89,99,76,2123,10,3,2,67,3,12,34,902,2341,8]\n",
    "\n",
    "first = 0\n",
    "last = len(L)-1\n",
    "\n",
    "    \n",
    "def partition(L, first, last):\n",
    "    pivot = L[last]\n",
    "    i = j = first\n",
    "    for i in range(first, last):\n",
    "        if L[i]<pivot:\n",
    "            L[i], L[j]= L[j], L[i]\n",
    "            j+= 1\n",
    "    L[j], L[last]= L[last], L[j]\n",
    "    return j\n",
    "        \n",
    "    \n",
    "def quick_sort(L, first, last):\n",
    "    if first<last:\n",
    "        pivot = partition(L, first, last)\n",
    "        quick_sort(L, first, pivot-1)\n",
    "        quick_sort(L, pivot + 1, last)\n",
    "        return L\n",
    "\n",
    "quick_sort(L,first, last)\n",
    "print(\"\\nSorted List \\n\", L)\n"
   ]
  },
  {
   "cell_type": "code",
   "execution_count": 30,
   "metadata": {},
   "outputs": [],
   "source": []
  },
  {
   "cell_type": "code",
   "execution_count": 31,
   "metadata": {},
   "outputs": [],
   "source": []
  },
  {
   "cell_type": "code",
   "execution_count": null,
   "metadata": {},
   "outputs": [],
   "source": []
  }
 ],
 "metadata": {
  "kernelspec": {
   "display_name": "Python 3",
   "language": "python",
   "name": "python3"
  },
  "language_info": {
   "codemirror_mode": {
    "name": "ipython",
    "version": 3
   },
   "file_extension": ".py",
   "mimetype": "text/x-python",
   "name": "python",
   "nbconvert_exporter": "python",
   "pygments_lexer": "ipython3",
   "version": "3.8.5"
  }
 },
 "nbformat": 4,
 "nbformat_minor": 4
}

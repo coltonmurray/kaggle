{
 "metadata": {
  "language_info": {
   "codemirror_mode": {
    "name": "ipython",
    "version": 3
   },
   "file_extension": ".py",
   "mimetype": "text/x-python",
   "name": "python",
   "nbconvert_exporter": "python",
   "pygments_lexer": "ipython3",
   "version": "3.9.4"
  },
  "orig_nbformat": 4,
  "kernelspec": {
   "name": "python3",
   "display_name": "Python 3.9.4 64-bit"
  },
  "interpreter": {
   "hash": "c7375320fdda86230cb60a3fc7f7d67fec4cf105485a971636ac99d19ebeb5c6"
  }
 },
 "nbformat": 4,
 "nbformat_minor": 2,
 "cells": [
  {
   "cell_type": "code",
   "execution_count": 4,
   "metadata": {},
   "outputs": [
    {
     "output_type": "stream",
     "name": "stdout",
     "text": [
      "Bubble:  [24, 40, 67, 88, 97]\nBubble:  [15, 44, 53, 66, 85]\nBubble:  [16, 26, 45, 48, 52]\nBubble:  [18, 23, 23, 49, 80, 90]\nMerge:  [15, 24, 40, 44, 53, 66, 67, 85, 88, 97]\nMerge:  [16, 18, 23, 23, 26, 45, 48, 49, 52, 80, 90]\n"
     ]
    },
    {
     "output_type": "execute_result",
     "data": {
      "text/plain": [
       "[15,\n",
       " 16,\n",
       " 18,\n",
       " 23,\n",
       " 23,\n",
       " 24,\n",
       " 26,\n",
       " 40,\n",
       " 44,\n",
       " 45,\n",
       " 48,\n",
       " 49,\n",
       " 52,\n",
       " 53,\n",
       " 66,\n",
       " 67,\n",
       " 80,\n",
       " 85,\n",
       " 88,\n",
       " 90,\n",
       " 97]"
      ]
     },
     "metadata": {},
     "execution_count": 4
    }
   ],
   "source": [
    "\n",
    "def bubblesort(sortlist):\n",
    "    length = len(sortlist)\n",
    "    for i in range(length):\n",
    "        for j in range(length-1-i):\n",
    "            if sortlist[j]>sortlist[j+1]:\n",
    "                r = sortlist[j]\n",
    "                sortlist[j] = sortlist[j+1]\n",
    "                sortlist[j+1] = r\n",
    "                \n",
    "    \n",
    "\n",
    "\n",
    "\n",
    "def mergeSort(arr,T):\n",
    "    if len(arr) > 1:\n",
    " \n",
    "         # Finding the mid of the array\n",
    "        mid = len(arr)//2\n",
    " \n",
    "        # Dividing the array elements\n",
    "        L = arr[:mid]\n",
    " \n",
    "        # into 2 halves\n",
    "        R = arr[mid:]\n",
    "\n",
    "        if len(L)>T:\n",
    "            # Sorting the first half\n",
    "            mergeSort(L,T)\n",
    "            mergeSort(R,T)\n",
    "            print(\"Merge: \",L)\n",
    "            print(\"Merge: \",R)\n",
    "            \n",
    "        else:\n",
    "            bubblesort(L)\n",
    "            bubblesort(R)\n",
    "            print(\"Bubble: \",L)\n",
    "            print(\"Bubble: \",R)\n",
    "\n",
    "\n",
    "        \n",
    "        i = j = k = 0\n",
    " \n",
    "        # Copy data to temp arrays L[] and R[]\n",
    "        while i < len(L) and j < len(R):\n",
    "            if L[i] < R[j]:\n",
    "                arr[k] = L[i]\n",
    "                i += 1\n",
    "            else:\n",
    "                arr[k] = R[j]\n",
    "                j += 1\n",
    "            k += 1\n",
    " \n",
    "        # Checking if any element was left\n",
    "        while i < len(L):\n",
    "            arr[k] = L[i]\n",
    "            i += 1\n",
    "            k += 1\n",
    " \n",
    "        while j < len(R):\n",
    "            arr[k] = R[j]\n",
    "            j += 1\n",
    "            k += 1\n",
    "\n",
    "\n",
    "\n",
    "Thresh = 6\n",
    "mainList = [ 24, 97, 40, 67, 88, 85, 15,66, 53, 44, 26, 48, 16, 52,45, 23, 90, 18, 49, 80, 23 ]\n",
    "\n",
    "\n",
    "\n",
    "\n",
    "mergeSort(mainList,Thresh)\n",
    "mainList\n"
   ]
  },
  {
   "cell_type": "code",
   "execution_count": null,
   "metadata": {},
   "outputs": [],
   "source": []
  }
 ]
}
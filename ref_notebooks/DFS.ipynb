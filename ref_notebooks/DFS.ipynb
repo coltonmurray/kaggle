{
 "cells": [
  {
   "cell_type": "code",
   "execution_count": 26,
   "metadata": {},
   "outputs": [
    {
     "name": "stdout",
     "output_type": "stream",
     "text": [
      "\n",
      " Path visited\n",
      " [10, 11, 4, 3, 14, 2, 6, 16, 1, 17, 20, 13, 15, 7, 18, 8, 5, 19, 9, 12]\n"
     ]
    }
   ],
   "source": [
    "\n",
    "import sys\n",
    "\n",
    "city = {\"Arad\":1,\"Bucharest\":2,\"Craiova\":3,\"Drobeta\":4,\"Eforie\":5,\"Fargaras\":6,\"Giurgiu\":7,\"Hirsova\":8,\"Iasi\":9,\"Lugoj\":10,\"Mehadia\":11,\"Neamt\":12,\"Oradea\":13,\"Pitesti\":14,\"Rimnicu Vilcea\":15,\"Sibiu\":16,\"Timisoara\":17,\"Urziceni\":18,\"Valsui\":19,\"Zerind\":20 }\n",
    "#print(city)\n",
    "\n",
    "city_dist = {1: [{16: 140}, {17: 118}, {20: 75}],\n",
    "             2: [{6: 211}, {7: 90}, {14: 101}, {18: 85}],\n",
    "             3: [{4: 120}, {14: 138}, {15: 146}],\n",
    "             4: [{3: 120}, {11: 75}],\n",
    "             5: [{8: 86}],\n",
    "             6: [{2: 211},{16: 99}],\n",
    "             7: [{2: 90}],\n",
    "             8: [{5: 86}, {18: 98}],\n",
    "             9: [{12: 87}, {19: 92}],\n",
    "             10: [{11: 70}, {17: 111}],\n",
    "             11: [{4: 75}, {10: 70}],\n",
    "             12: [{9: 87}],\n",
    "             13: [{16: 151}, {20: 71}],\n",
    "             14: [{2: 101}, {3: 138}, {15: 97}],\n",
    "             15: [{3: 146}, {14: 97}, {16: 80}],\n",
    "             16: [{1: 140}, {6: 99}, {13: 151}, {15: 80}],\n",
    "             17: [{1: 118}, {10: 111}],\n",
    "             18: [{2: 85}, {8: 98}, {19: 142}],\n",
    "             19: [{9: 92}, {18: 142}],\n",
    "             20: [{1: 75}, {13: 71}]}\n",
    "\n",
    "\n",
    "#print(city_dist.keys())\n",
    "visited = []\n",
    "\n",
    "def dfs(visited,city,node):\n",
    "    if node not in visited:\n",
    "        visited.append(node)\n",
    "        for neigh in city[node]:\n",
    "            for x, y in neigh.items():\n",
    "                if x not in visited:\n",
    "                    dfs(visited,city,x)\n",
    "        return visited\n",
    "\n",
    "\n",
    "path = dfs([],city_dist,city['Lugoj'])\n",
    "\n",
    "print(\"\\n Path visited\\n\",path)\n"
   ]
  },
  {
   "cell_type": "code",
   "execution_count": null,
   "metadata": {},
   "outputs": [],
   "source": []
  }
 ],
 "metadata": {
  "kernelspec": {
   "display_name": "Python 3",
   "language": "python",
   "name": "python3"
  },
  "language_info": {
   "codemirror_mode": {
    "name": "ipython",
    "version": 3
   },
   "file_extension": ".py",
   "mimetype": "text/x-python",
   "name": "python",
   "nbconvert_exporter": "python",
   "pygments_lexer": "ipython3",
   "version": "3.8.5"
  }
 },
 "nbformat": 4,
 "nbformat_minor": 4
}

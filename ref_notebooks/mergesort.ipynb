{
 "cells": [
  {
   "cell_type": "code",
   "execution_count": 11,
   "source": [
    "List = [89, 43, 23, 43, 65, 3, 7, 10, 13, 15]\r\n",
    "\r\n",
    "def mergeSort(list):\r\n",
    "    if len(list) > 1:\r\n",
    "        mid = len(list)//2\r\n",
    "        Left = list[:mid]\r\n",
    "        Right = list[mid:]\r\n",
    "        mergeSort(Left)\r\n",
    "        mergeSort(Right)\r\n",
    "\r\n",
    "        i = j = k = 0\r\n",
    "        \r\n",
    "        while i < len(Left) and j < len(Right):\r\n",
    "            if Right[j] > Left[i]:\r\n",
    "                list[k] = Left[i]\r\n",
    "                i += 1\r\n",
    "            else:\r\n",
    "                list[k] = Right[j]\r\n",
    "                j += 1\r\n",
    "            k += 1\r\n",
    "\r\n",
    "        while i < len(Left):\r\n",
    "            list[k] = Left[i]\r\n",
    "            i += 1\r\n",
    "            k += 1\r\n",
    "\r\n",
    "        while j < len(Right):\r\n",
    "            list[k] = Right[j]\r\n",
    "            j += 1\r\n",
    "            k += 1\r\n",
    "\r\n",
    "mergeSort(List)\r\n",
    "print(\"The sorted list is \\n\",List)\r\n"
   ],
   "outputs": [
    {
     "output_type": "stream",
     "name": "stdout",
     "text": [
      "[3, 7, 10, 13, 15, 23, 43, 43, 65, 89]\n"
     ]
    }
   ],
   "metadata": {}
  }
 ],
 "metadata": {
  "orig_nbformat": 4,
  "language_info": {
   "name": "python",
   "version": "3.9.5",
   "mimetype": "text/x-python",
   "codemirror_mode": {
    "name": "ipython",
    "version": 3
   },
   "pygments_lexer": "ipython3",
   "nbconvert_exporter": "python",
   "file_extension": ".py"
  },
  "kernelspec": {
   "name": "python3",
   "display_name": "Python 3.9.5 64-bit"
  },
  "interpreter": {
   "hash": "91d83c7629bb1e19f8787481f322f7765a7fe4fd559819aab068dd344d12a719"
  }
 },
 "nbformat": 4,
 "nbformat_minor": 2
}
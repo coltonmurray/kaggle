{
 "cells": [
  {
   "cell_type": "code",
   "execution_count": 1,
   "metadata": {},
   "outputs": [
    {
     "name": "stdout",
     "output_type": "stream",
     "text": [
      "Enter number and press enter to add to list : 2\n",
      "344\n",
      "56\n",
      "11\n",
      "90\n",
      "213\n",
      "1\n",
      "2\n",
      "\n",
      "List to be sorted is\n",
      " [344, 56, 11, 90, 213, 1, 2]\n",
      "\n",
      "Sorted List is\n",
      " [1, 2, 3, 4, 6, 10, 23, 78, 100]\n"
     ]
    }
   ],
   "source": [
    "# HMWK Group 1\n",
    "# Members : Pooja Bist, Colton Murray, Raman Hliabovich\n",
    "\n",
    "\n",
    "try:\n",
    "    L = []\n",
    "    user_input = int(input(\"Enter number and press enter to add to list : \"))\n",
    "    while True:\n",
    "        for i in range(0, user_input):\n",
    "            item = int(input())\n",
    "            L.append(item)\n",
    "except:\n",
    "    print(\"List to be sorted is\\n\",L)\n",
    "\n",
    "\n",
    "def sort(L):\n",
    "    length = len(L)\n",
    "    for i in range(length):\n",
    "        for j in range(length-1-i):\n",
    "            if L[j]>L[j+1]:\n",
    "                r = L[j]\n",
    "                L[j] = L[j+1]\n",
    "                L[j+1] = r\n",
    "\n",
    "sort(L)\n",
    "print(\"\\nSorted List is\\n\",L )   "
   ]
  },
  {
   "cell_type": "code",
   "execution_count": null,
   "metadata": {},
   "outputs": [],
   "source": []
  }
 ],
 "metadata": {
  "kernelspec": {
   "display_name": "Python 3",
   "language": "python",
   "name": "python3"
  },
  "language_info": {
   "codemirror_mode": {
    "name": "ipython",
    "version": 3
   },
   "file_extension": ".py",
   "mimetype": "text/x-python",
   "name": "python",
   "nbconvert_exporter": "python",
   "pygments_lexer": "ipython3",
   "version": "3.8.5"
  }
 },
 "nbformat": 4,
 "nbformat_minor": 4
}

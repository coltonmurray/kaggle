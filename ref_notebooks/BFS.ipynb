{
 "cells": [
  {
   "cell_type": "code",
   "execution_count": 4,
   "source": [
    "\r\n",
    "import networkx as nx\r\n",
    "import sys\r\n",
    "\r\n",
    "city = {\"Arad\":1,\"Bucharest\":2,\"Craiova\":3,\"Drobeta\":4,\"Eforie\":5,\"Fargaras\":6,\"Giurgiu\":7,\"Hirsova\":8,\"Iasi\":9,\"Lugoj\":10,\"Mehadia\":11,\"Neamt\":12,\"Oradea\":13,\"Pitesti\":14,\"Rimnicu Vilcea\":15,\"Sibiu\":16,\"Timisoara\":17,\"Urziceni\":18,\"Valsui\":19,\"Zerind\":20 }\r\n",
    "#print(city)\r\n",
    "\r\n",
    "city_dist = {1: [{16: 140}, {17: 118}, {20: 75}],\r\n",
    "             2: [{6: 211}, {7: 90}, {14: 101}, {18: 85}],\r\n",
    "             3: [{4: 120}, {14: 138}, {15: 146}],\r\n",
    "             4: [{3: 120}, {11: 75}],\r\n",
    "             5: [{8: 86}],\r\n",
    "             6: [{2: 211},{16: 99}],\r\n",
    "             7: [{2: 90}],\r\n",
    "             8: [{5: 86}, {18: 98}],\r\n",
    "             9: [{12: 87}, {19: 92}],\r\n",
    "             10: [{11: 70}, {17: 111}],\r\n",
    "             11: [{4: 75}, {10: 70}],\r\n",
    "             12: [{9: 87}],\r\n",
    "             13: [{16: 151}, {20: 71}],\r\n",
    "             14: [{2: 101}, {3: 138}, {15: 97}],\r\n",
    "             15: [{3: 146}, {14: 97}, {16: 80}],\r\n",
    "             16: [{1: 140}, {6: 99}, {13: 151}, {15: 80}],\r\n",
    "             17: [{1: 118}, {10: 111}],\r\n",
    "             18: [{2: 85}, {8: 98}, {19: 142}],\r\n",
    "             19: [{9: 92}, {18: 142}],\r\n",
    "             20: [{1: 75}, {13: 71}]}\r\n",
    "\r\n",
    "\r\n",
    "#print(city_dist.keys())\r\n",
    "\r\n",
    "def bfs(visited,city,node):\r\n",
    "    queue = []\r\n",
    "    visited.append(node)\r\n",
    "    queue.append(node)\r\n",
    "    while queue:\r\n",
    "        r = queue.pop(0)\r\n",
    "        #print(\"\\nprinting r \", r)\r\n",
    "        for neigh in city[r]:\r\n",
    "            for x, y in neigh.items():\r\n",
    "                if x not in visited:\r\n",
    "                    #print(neigh)\r\n",
    "                    visited.append(x)\r\n",
    "                    queue.append(x)\r\n",
    "\r\n",
    "    print(\"\\n Path is :\\n\",visited)\r\n",
    "\r\n",
    "bfs([],city_dist,city['Fargaras'])\r\n",
    "\r\n"
   ],
   "outputs": [
    {
     "output_type": "stream",
     "name": "stdout",
     "text": [
      "\n",
      " Path is :\n",
      " [6, 2, 16, 7, 14, 18, 1, 13, 15, 3, 8, 19, 17, 20, 4, 5, 9, 10, 11, 12]\n"
     ]
    }
   ],
   "metadata": {}
  },
  {
   "cell_type": "code",
   "execution_count": null,
   "source": [],
   "outputs": [],
   "metadata": {}
  }
 ],
 "metadata": {
  "kernelspec": {
   "name": "python3",
   "display_name": "Python 3.9.4 64-bit"
  },
  "language_info": {
   "codemirror_mode": {
    "name": "ipython",
    "version": 3
   },
   "file_extension": ".py",
   "mimetype": "text/x-python",
   "name": "python",
   "nbconvert_exporter": "python",
   "pygments_lexer": "ipython3",
   "version": "3.9.4"
  },
  "interpreter": {
   "hash": "c7375320fdda86230cb60a3fc7f7d67fec4cf105485a971636ac99d19ebeb5c6"
  }
 },
 "nbformat": 4,
 "nbformat_minor": 4
}
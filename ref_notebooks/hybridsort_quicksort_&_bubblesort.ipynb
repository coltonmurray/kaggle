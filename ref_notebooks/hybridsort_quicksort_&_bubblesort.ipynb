{
 "cells": [
  {
   "cell_type": "code",
   "execution_count": 8,
   "metadata": {},
   "outputs": [
    {
     "name": "stdout",
     "output_type": "stream",
     "text": [
      "Enter number and press enter to add to list : 1\n",
      "56\n",
      "78\n",
      "891\n",
      "90\n",
      "23\n",
      "6711\n",
      "90\n",
      "2\n",
      "\n",
      "List to be sorted is\n",
      " [56, 78, 891, 90, 23, 6711, 90, 2]\n",
      "\n",
      "Sorted List is \n",
      " [2, 23, 56, 78, 90, 90, 891, 6711]\n"
     ]
    }
   ],
   "source": [
    "# HMWK Group 1\n",
    "# Members : Pooja Bist, Colton Murray, Raman Hliabovich\n",
    "\n",
    "\n",
    "\n",
    "try:\n",
    "    L = []\n",
    "    user_input = int(input(\"Enter number and press enter to add to list : \"))\n",
    "    while True:\n",
    "        for i in range(0, user_input):\n",
    "            item = int(input())\n",
    "            L.append(item)\n",
    "except:\n",
    "    print(\"List to be sorted is\\n\",L)\n",
    "\n",
    "first = 0\n",
    "last = len(L)-1\n",
    "\n",
    "    \n",
    "\n",
    "\n",
    "def partition(L,first,last):\n",
    "    p = L[first]\n",
    "    i = first\n",
    "    j = last  \n",
    "    \n",
    "    while i<j:\n",
    "        while L[i]<=p and i<=last-1:\n",
    "            i = i+1\n",
    "        while L[j]>p and j>=first:\n",
    "            j = j-1\n",
    "        if i<j:\n",
    "            t = L[i]\n",
    "            L[i] = L[j]\n",
    "            L[j] = t\n",
    "    r = L[first]\n",
    "    L[first] = L[j]\n",
    "    L[j] = r\n",
    "    return j\n",
    "        \n",
    "    \n",
    "def quicksort(L,first,last):\n",
    "    if f<l:\n",
    "        j = partition(L,first,last)\n",
    "        quicksort(L,first,j-1)\n",
    "        quicksort(L,j+1,last)\n",
    "        return L\n",
    "\n",
    "\n",
    "def bubblesort(L):\n",
    "    length = len(L)\n",
    "    for i in range(length):\n",
    "        for j in range(length-1-i):\n",
    "            if L[j]>L[j+1]:\n",
    "                r = L[j]\n",
    "                L[j] = L[j+1]\n",
    "                L[j+1] = r\n",
    "\n",
    "\n",
    "\n",
    "def hybridsort(L,first,last) :\n",
    "        if last+1<15 :\n",
    "            bubblesort(L)\n",
    "        else:\n",
    "            p = partition(L,first,last)\n",
    "            if p-first<last-p:\n",
    "                hybridsort(L,first,p-1)\n",
    "                last = p+1\n",
    "            else:\n",
    "                hybridsort(L,p_1,last)\n",
    "                last = p-1\n",
    "\n",
    "\n",
    "\n",
    "hybridsort(L,first,last)\n",
    "print(\"\\nSorted List is \\n\",L )"
   ]
  },
  {
   "cell_type": "markdown",
   "metadata": {},
   "source": []
  },
  {
   "cell_type": "code",
   "execution_count": null,
   "metadata": {
    "scrolled": false
   },
   "outputs": [],
   "source": []
  },
  {
   "cell_type": "code",
   "execution_count": null,
   "metadata": {},
   "outputs": [],
   "source": []
  }
 ],
 "metadata": {
  "kernelspec": {
   "display_name": "Python 3",
   "language": "python",
   "name": "python3"
  },
  "language_info": {
   "codemirror_mode": {
    "name": "ipython",
    "version": 3
   },
   "file_extension": ".py",
   "mimetype": "text/x-python",
   "name": "python",
   "nbconvert_exporter": "python",
   "pygments_lexer": "ipython3",
   "version": "3.8.5"
  }
 },
 "nbformat": 4,
 "nbformat_minor": 4
}
